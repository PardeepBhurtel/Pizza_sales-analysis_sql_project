{
 "cells": [
  {
   "cell_type": "code",
   "execution_count": 1,
   "metadata": {},
   "outputs": [],
   "source": [
    "%load_ext sql\n"
   ]
  },
  {
   "cell_type": "code",
   "execution_count": 2,
   "metadata": {},
   "outputs": [],
   "source": [
    "# creating databases\n",
    "import csv, sqlite3\n",
    "\n",
    "con = sqlite3.connect(\"pizzadb.db\")\n",
    "cur = con.cursor()"
   ]
  },
  {
   "cell_type": "code",
   "execution_count": 3,
   "metadata": {},
   "outputs": [],
   "source": [
    "%sql sqlite:///pizzadb.db"
   ]
  },
  {
   "cell_type": "markdown",
   "metadata": {},
   "source": [
    "In this notebook i have done the project by creating a tables and inserting data through sql.\n",
    "In case of retrieving the datasets through csv we use pandas and different syantax.\n",
    "It is easier to retrieve data through csv or any file formamt or directly sqlite."
   ]
  },
  {
   "cell_type": "code",
   "execution_count": 4,
   "metadata": {},
   "outputs": [
    {
     "name": "stdout",
     "output_type": "stream",
     "text": [
      " * sqlite:///pizzadb.db\n",
      "Done.\n",
      "Done.\n",
      "Done.\n",
      "Done.\n"
     ]
    },
    {
     "data": {
      "text/plain": [
       "[]"
      ]
     },
     "execution_count": 4,
     "metadata": {},
     "output_type": "execute_result"
    }
   ],
   "source": [
    "%%sql\n",
    "\n",
    "CREATE TABLE Pizzas (\n",
    "\tPizza_id VARCHAR(50),\n",
    "\tPizza_type_id VARCHAR(50),\n",
    "\tSize VARCHAR(50),\n",
    "\tPrice VARCHAR(50)\n",
    ");\n",
    "\n",
    "CREATE TABLE Pizza_types (\n",
    "    pizza_type_id VARCHAR(50),\n",
    "    name VARCHAR(50),\n",
    "    category VARCHAR(50),\n",
    "    ingredients VARCHAR(50)\n",
    ");\n",
    "\n",
    "CREATE TABLE Orders(\n",
    "    order_id VARCHAR(50),\n",
    "    date VARCHAR(50),\n",
    "    time VARCHAR(50)\n",
    ");\n",
    "\n",
    "CREATE TABLE Order_details(\n",
    "    order_details_id VARCHAR(50),\n",
    "    order_id VARCHAR(50),\n",
    "    pizza_id VARCHAR(50),\n",
    "    quantity VARCHAR(50)\n",
    ");\n",
    "\n",
    "\n",
    "\n"
   ]
  },
  {
   "cell_type": "code",
   "execution_count": null,
   "metadata": {},
   "outputs": [],
   "source": []
  }
 ],
 "metadata": {
  "kernelspec": {
   "display_name": ".venv",
   "language": "python",
   "name": "python3"
  },
  "language_info": {
   "codemirror_mode": {
    "name": "ipython",
    "version": 3
   },
   "file_extension": ".py",
   "mimetype": "text/x-python",
   "name": "python",
   "nbconvert_exporter": "python",
   "pygments_lexer": "ipython3",
   "version": "3.10.12"
  }
 },
 "nbformat": 4,
 "nbformat_minor": 2
}
